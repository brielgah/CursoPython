{
 "cells": [
  {
   "cell_type": "code",
   "execution_count": null,
   "metadata": {},
   "outputs": [],
   "source": [
    "# Advertencia si un asteroide se acerca a la Tierra demasiado rápido. "
   ]
  },
  {
   "cell_type": "code",
   "execution_count": 2,
   "metadata": {},
   "outputs": [
    {
     "name": "stdout",
     "output_type": "stream",
     "text": [
      "Advertencia asteroide se acerca demasiado rápido a la Tierra\n"
     ]
    }
   ],
   "source": [
    "asteroidSpeed = 49\n",
    "if asteroidSpeed > 25:\n",
    "    print(\"Advertencia asteroide se acerca demasiado rápido a la Tierra\")\n",
    "else:\n",
    "    print(\"Todo esta en orden\")"
   ]
  },
  {
   "cell_type": "code",
   "execution_count": 4,
   "metadata": {},
   "outputs": [
    {
     "name": "stdout",
     "output_type": "stream",
     "text": [
      "No hay nada que ver\n"
     ]
    }
   ],
   "source": [
    "asteroidSpeed = 19\n",
    "if asteroidSpeed >= 20:\n",
    "    print(\"Mira un asteroide\")\n",
    "else:\n",
    "    print(\"No hay nada que ver\")\n"
   ]
  },
  {
   "cell_type": "code",
   "execution_count": 4,
   "metadata": {},
   "outputs": [
    {
     "name": "stdout",
     "output_type": "stream",
     "text": [
      "Mira un asteoirde\n"
     ]
    }
   ],
   "source": [
    "asteroidSpeed = 39\n",
    "asteroidSize = 20\n",
    "if (asteroidSize > 25 and asteroidSize < 1000) and asteroidSpeed > 25:\n",
    "    print(\"Cuida un asteroide grande viaja muy rápido a la Tierra\")\n",
    "elif asteroidSpeed >= 20:\n",
    "    print(\"Mira un asteoirde\")\n",
    "else:\n",
    "    print(\"No hay nada que ver\")\n"
   ]
  },
  {
   "cell_type": "code",
   "execution_count": null,
   "metadata": {},
   "outputs": [],
   "source": []
  }
 ],
 "metadata": {
  "interpreter": {
   "hash": "af6c31181da631c9324d9797e04eda0896482a5b27f1401663b7bd9c4e835f37"
  },
  "kernelspec": {
   "display_name": "Python 3.10.2 64-bit",
   "language": "python",
   "name": "python3"
  },
  "language_info": {
   "codemirror_mode": {
    "name": "ipython",
    "version": 3
   },
   "file_extension": ".py",
   "mimetype": "text/x-python",
   "name": "python",
   "nbconvert_exporter": "python",
   "pygments_lexer": "ipython3",
   "version": "3.10.2"
  },
  "orig_nbformat": 4
 },
 "nbformat": 4,
 "nbformat_minor": 2
}
