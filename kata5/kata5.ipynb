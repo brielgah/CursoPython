{
 "cells": [
  {
   "cell_type": "code",
   "execution_count": 2,
   "metadata": {},
   "outputs": [],
   "source": [
    "earthSpeed = 149597870\n",
    "jupiterSpeed = 778547200"
   ]
  },
  {
   "cell_type": "code",
   "execution_count": 5,
   "metadata": {},
   "outputs": [
    {
     "name": "stdout",
     "output_type": "stream",
     "text": [
      "628949330\n",
      "390577533.93\n"
     ]
    }
   ],
   "source": [
    "distance = jupiterSpeed - earthSpeed\n",
    "print(distance)\n",
    "distance = distance * 0.621\n",
    "print(distance)"
   ]
  },
  {
   "cell_type": "code",
   "execution_count": 6,
   "metadata": {},
   "outputs": [
    {
     "name": "stdout",
     "output_type": "stream",
     "text": [
      "50300000\n",
      "31236300.0\n"
     ]
    }
   ],
   "source": [
    "firstPlanet = int(input(\"Introduce la distancia del primer planeta\"))\n",
    "secondPlanet = int(input(\"Introduce la distancia del segundo planeta\"))\n",
    "distance2 = abs(firstPlanet-secondPlanet)\n",
    "print(distance2)\n",
    "distance2 = distance2 * 0.621\n",
    "print(distance2)\n"
   ]
  }
 ],
 "metadata": {
  "interpreter": {
   "hash": "af6c31181da631c9324d9797e04eda0896482a5b27f1401663b7bd9c4e835f37"
  },
  "kernelspec": {
   "display_name": "Python 3.10.2 64-bit",
   "language": "python",
   "name": "python3"
  },
  "language_info": {
   "codemirror_mode": {
    "name": "ipython",
    "version": 3
   },
   "file_extension": ".py",
   "mimetype": "text/x-python",
   "name": "python",
   "nbconvert_exporter": "python",
   "pygments_lexer": "ipython3",
   "version": "3.10.2"
  },
  "orig_nbformat": 4
 },
 "nbformat": 4,
 "nbformat_minor": 2
}
