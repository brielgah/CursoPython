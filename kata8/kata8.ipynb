{
 "cells": [
  {
   "cell_type": "code",
   "execution_count": 4,
   "metadata": {},
   "outputs": [
    {
     "name": "stdout",
     "output_type": "stream",
     "text": [
      "El planeta Mars tiene 2 lunas\n"
     ]
    }
   ],
   "source": [
    "planet = {\n",
    "    \"name\": \"Mars\",\n",
    "    \"moons\": 2\n",
    "}\n",
    "print(f'El planeta {planet[\"name\"]} tiene {planet[\"moons\"]} lunas')"
   ]
  },
  {
   "cell_type": "code",
   "execution_count": 6,
   "metadata": {},
   "outputs": [
    {
     "name": "stdout",
     "output_type": "stream",
     "text": [
      "La circunferencia polar de Mars es: 6752\n"
     ]
    }
   ],
   "source": [
    "planet[\"circunferenciaKm\"] = {\n",
    "    \"polar\":6752,\n",
    "    \"equatorial\":6792\n",
    "}\n",
    "print(f'La circunferencia polar de {planet[\"name\"]} es: {planet[\"circunferenciaKm\"][\"polar\"]}')"
   ]
  },
  {
   "cell_type": "code",
   "execution_count": 8,
   "metadata": {},
   "outputs": [
    {
     "name": "stdout",
     "output_type": "stream",
     "text": [
      "El nummero total de lunas en el sistema solar es: 214\n",
      "El numero promedio de lunas por planeta es 18\n"
     ]
    }
   ],
   "source": [
    "planet_moons = {\n",
    "    'mercury': 0,\n",
    "    'venus': 0,\n",
    "    'earth': 1,\n",
    "    'mars': 2,\n",
    "    'jupiter': 79,\n",
    "    'saturn': 82,\n",
    "    'uranus': 27,\n",
    "    'neptune': 14,\n",
    "    'pluto': 5,\n",
    "    'haumea': 2,\n",
    "    'makemake': 1,\n",
    "    'eris': 1\n",
    "}\n",
    "moons = 0\n",
    "planets = len(planet_moons.keys())\n",
    "for moon in planet_moons.values():\n",
    "    moons+= moon\n",
    "print(\"El nummero total de lunas en el sistema solar es: %s\" % moons)\n",
    "print(\"El numero promedio de lunas por planeta es %s\" % (round(moons/planets))) "
   ]
  }
 ],
 "metadata": {
  "interpreter": {
   "hash": "af6c31181da631c9324d9797e04eda0896482a5b27f1401663b7bd9c4e835f37"
  },
  "kernelspec": {
   "display_name": "Python 3.10.2 64-bit",
   "language": "python",
   "name": "python3"
  },
  "language_info": {
   "codemirror_mode": {
    "name": "ipython",
    "version": 3
   },
   "file_extension": ".py",
   "mimetype": "text/x-python",
   "name": "python",
   "nbconvert_exporter": "python",
   "pygments_lexer": "ipython3",
   "version": "3.10.2"
  },
  "orig_nbformat": 4
 },
 "nbformat": 4,
 "nbformat_minor": 2
}
